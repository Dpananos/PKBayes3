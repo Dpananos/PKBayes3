{
 "cells": [
  {
   "cell_type": "code",
   "execution_count": 1,
   "metadata": {},
   "outputs": [],
   "source": [
    "import numpy as np\n",
    "import pandas as pd\n",
    "import duckdb\n",
    "import pymc as pm\n",
    "from sklearn.preprocessing import StandardScaler\n",
    "\n",
    "con = duckdb.connect('data/database/apixaban_data.duckdb')\n",
    "\n",
    "rdf = pd.read_sql('select * from rommel_cleaned_data', con=con)\n",
    "udf = pd.read_sql('select * from ute_cleaned_data', con=con)\n",
    "\n",
    "con.close()\n",
    "\n",
    "\n",
    "# Get rommel's patient data\n",
    "\n",
    "rommel_patients = rdf.drop_duplicates(['subjectids']).loc[:, ['age','weight_kg','creatinine_micromol_l']].values\n",
    "ute_patients = udf.loc[:, ['age','weight_kg','creatinine_micromol_l']].values\n",
    "covars = np.r_[rommel_patients, ute_patients]\n",
    "scaler = StandardScaler().fit(covars)\n",
    "\n",
    "rdf.loc[:, ['age','weight_kg','creatinine_micromol_l']] = scaler.transform(rdf.loc[:, ['age','weight_kg','creatinine_micromol_l']].values)\n",
    "udf.loc[:, ['age','weight_kg','creatinine_micromol_l']] = scaler.transform(udf.loc[:, ['age','weight_kg','creatinine_micromol_l']].values)\n",
    "\n",
    "# For modelling\n",
    "r_ids = pd.Categorical(rdf.subjectids).codes\n",
    "r_n_subjectids = np.unique(r_ids).size\n",
    "r_age = rdf.age.values\n",
    "r_is_male = (rdf.sex=='male').astype(int)\n",
    "r_weight = rdf.weight_kg.values\n",
    "r_creat = rdf.creatinine_micromol_l.values\n",
    "r_time = rdf.hrs_post_dose.values\n",
    "r_yobs = rdf.yobs_ng_ml.values*1000\n",
    "r_D = rdf.dose_mg_twice_daily.values\n",
    "X = np.c_[r_age, r_weight, r_creat, r_is_male]\n",
    "\n",
    "\n",
    "u_ids = pd.Categorical(udf.subjectids).codes\n",
    "u_age = udf.age.values\n",
    "u_is_male = (udf.sex=='male').astype(int)\n",
    "u_weight = udf.weight_kg.values\n",
    "u_creat = udf.creatinine_micromol_l.values\n",
    "u_time = udf.hrs_post_dose.values\n",
    "u_yobs = udf.yobs_ng_ml.values*1000\n",
    "u_D = udf.dose_mg_twice_daily.values\n",
    "u_amio = udf.amiodarone_mg_day.values\n",
    "\n"
   ]
  },
  {
   "cell_type": "code",
   "execution_count": null,
   "metadata": {},
   "outputs": [],
   "source": []
  },
  {
   "cell_type": "code",
   "execution_count": 3,
   "metadata": {},
   "outputs": [],
   "source": [
    "\n",
    "def concentration(time, dose, f, cl, ke, ka, c0=0.0):\n",
    "\n",
    "    kernel = pm.math.exp(-ka*time) - pm.math.exp(-ke*time)\n",
    "    factor = c0 + dose*f*ke*ka / (cl * (ke - ka)) \n",
    "    return kernel*factor\n",
    "    \n",
    "\n",
    "nrows, ncols = X.shape\n",
    "with pm.Model() as model:\n",
    "\n",
    "    # Pharmacokientic parameters\n",
    "\n",
    "    mu_cl = pm.Normal('mu_cl', 1.19, 0.1)\n",
    "    mu_t = pm.Normal('mu_t', 1.19, 0.1)\n",
    "    mu_a = pm.Normal('mu_a', -0.25, 0.5)\n",
    "    mu_F = pm.Normal('mu_F', 0,0.025)\n",
    "\n",
    "    beta_cl = pm.Normal('beta_cl', 0, 0.25, shape = ncols)\n",
    "    beta_t = pm.Normal('beta_t', 0, 0.25, shape = ncols)\n",
    "    beta_a = pm.Normal('beta_a', 0, 0.25, shape = ncols)\n",
    "\n",
    "    s_cl =  pm.Gamma('s_cl', 15, 100)\n",
    "    s_t =  pm.Gamma('s_t', 5, 100)\n",
    "    s_a =  pm.Gamma('s_a', 10, 100)\n",
    "\n",
    "    z_cl = pm.Normal('z_cl', 0, 1, shape=r_n_subjectids)\n",
    "    z_t = pm.Normal('z_t', 0, 1, shape=r_n_subjectids)\n",
    "    z_a = pm.Normal('z_a', 0, 1, shape=r_n_subjectids)\n",
    "\n",
    "    cl_linpred = mu_cl + pm.math.dot(X, beta_cl) + s_cl*z_cl[r_ids]\n",
    "    t_linpred = mu_t + pm.math.dot(X, beta_t) + s_t*z_t[r_ids]\n",
    "    a_linpred = mu_a + pm.math.dot(X, beta_a) + s_a*z_a[r_ids]\n",
    "\n",
    "    cl = pm.Deterministic('cl', pm.math.exp(cl_linpred))\n",
    "    tmax = pm.Deterministic('tmax', pm.math.exp(t_linpred))\n",
    "    a = pm.Deterministic('a', pm.math.invlogit(a_linpred))\n",
    "    F = pm.Deterministic('F', pm.math.invlogit(mu_F))\n",
    "    ka = pm.Deterministic('ka', pm.math.log(a) / (tmax * (a-1)))\n",
    "    ke = pm.Deterministic('ke', pm.math.log(a) * a / (tmax * (a-1)))\n",
    "\n",
    "    # Time delay\n",
    "    phi = pm.Beta('phi', 20, 20)\n",
    "    kappa = pm.Beta('k', 20, 20)\n",
    "    delta = pm.Beta('delta', phi/kappa, (1-phi)/kappa, shape=r_n_subjectids)\n",
    "    delayed_time = r_time - 0.5*delta[r_ids]\n",
    "\n",
    "    conc  = concentration(delayed_time, r_D, F, cl, ke, ka)\n",
    "    latent_conc = pm.Deterministic('latent_conc', conc)\n",
    "\n",
    "    sigma = pm.Lognormal('sigma', -2.3, 0.2)\n",
    "    Y = pm.Lognormal('Y', pm.math.log(conc), sigma=sigma,  observed=r_yobs)\n",
    "\n"
   ]
  },
  {
   "cell_type": "code",
   "execution_count": 14,
   "metadata": {},
   "outputs": [
    {
     "name": "stderr",
     "output_type": "stream",
     "text": [
      "Auto-assigning NUTS sampler...\n",
      "Initializing NUTS using jitter+adapt_diag...\n",
      "Multiprocess sampling (4 chains in 4 jobs)\n",
      "NUTS: [mu_cl, mu_t, mu_a, mu_F, beta_cl, beta_t, beta_a, s_cl, s_t, s_a, z_cl, z_t, z_a, phi, k, delta, sigma]\n"
     ]
    }
   ],
   "source": [
    "with model:\n",
    "\n",
    "    trace = pm.sample(chains=4, cores=4, target_accept=0.9)\n"
   ]
  },
  {
   "cell_type": "markdown",
   "metadata": {},
   "source": []
  },
  {
   "cell_type": "code",
   "execution_count": null,
   "metadata": {},
   "outputs": [],
   "source": []
  },
  {
   "cell_type": "code",
   "execution_count": null,
   "metadata": {},
   "outputs": [],
   "source": []
  }
 ],
 "metadata": {
  "interpreter": {
   "hash": "45d48dd6db66bb8a9afbf8f788e524c2ff13a3ad8234b0c9488001d30ade088d"
  },
  "kernelspec": {
   "display_name": "Python 3.9.9 ('pymc-dev-py39')",
   "language": "python",
   "name": "python3"
  },
  "language_info": {
   "codemirror_mode": {
    "name": "ipython",
    "version": 3
   },
   "file_extension": ".py",
   "mimetype": "text/x-python",
   "name": "python",
   "nbconvert_exporter": "python",
   "pygments_lexer": "ipython3",
   "version": "3.9.9"
  },
  "orig_nbformat": 4
 },
 "nbformat": 4,
 "nbformat_minor": 2
}
