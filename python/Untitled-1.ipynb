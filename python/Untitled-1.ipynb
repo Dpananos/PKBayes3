{
 "cells": [
  {
   "cell_type": "code",
   "execution_count": 3,
   "metadata": {},
   "outputs": [
    {
     "ename": "NameError",
     "evalue": "name 'num_dense_patients' is not defined",
     "output_type": "error",
     "traceback": [
      "\u001b[0;31m---------------------------------------------------------------------------\u001b[0m",
      "\u001b[0;31mNameError\u001b[0m                                 Traceback (most recent call last)",
      "\u001b[0;32m/var/folders/jg/l5d_63291cz8t8jgb4ttj1vc0000gn/T/ipykernel_42116/498158218.py\u001b[0m in \u001b[0;36m<module>\u001b[0;34m\u001b[0m\n\u001b[1;32m     13\u001b[0m \u001b[0;31m# See Patients.covars.  Sampled every half hour from 0.5 hours after ingestion to 12 hours after ingestion\u001b[0m\u001b[0;34m\u001b[0m\u001b[0;34m\u001b[0m\u001b[0m\n\u001b[1;32m     14\u001b[0m \u001b[0;31m# Need to 'explode' by time because 'time' column is an array inside a column.\u001b[0m\u001b[0;34m\u001b[0m\u001b[0;34m\u001b[0m\u001b[0m\n\u001b[0;32m---> 15\u001b[0;31m \u001b[0mdense_patients\u001b[0m \u001b[0;34m=\u001b[0m \u001b[0;34m[\u001b[0m\u001b[0mPatient\u001b[0m\u001b[0;34m(\u001b[0m\u001b[0msubjectid\u001b[0m\u001b[0;34m=\u001b[0m\u001b[0mi\u001b[0m\u001b[0;34m,\u001b[0m \u001b[0msampling\u001b[0m\u001b[0;34m=\u001b[0m\u001b[0;34m'dense'\u001b[0m\u001b[0;34m)\u001b[0m\u001b[0;34m.\u001b[0m\u001b[0mcovars\u001b[0m \u001b[0;32mfor\u001b[0m \u001b[0mi\u001b[0m \u001b[0;32min\u001b[0m \u001b[0mrange\u001b[0m\u001b[0;34m(\u001b[0m\u001b[0mnum_dense_patients\u001b[0m\u001b[0;34m)\u001b[0m\u001b[0;34m]\u001b[0m\u001b[0;34m\u001b[0m\u001b[0;34m\u001b[0m\u001b[0m\n\u001b[0m\u001b[1;32m     16\u001b[0m \u001b[0mdense_df\u001b[0m \u001b[0;34m=\u001b[0m \u001b[0mpd\u001b[0m\u001b[0;34m.\u001b[0m\u001b[0mDataFrame\u001b[0m\u001b[0;34m(\u001b[0m\u001b[0mdense_patients\u001b[0m\u001b[0;34m)\u001b[0m\u001b[0;34m.\u001b[0m\u001b[0mexplode\u001b[0m\u001b[0;34m(\u001b[0m\u001b[0;34m'time'\u001b[0m\u001b[0;34m)\u001b[0m\u001b[0;34m\u001b[0m\u001b[0;34m\u001b[0m\u001b[0m\n\u001b[1;32m     17\u001b[0m \u001b[0;34m\u001b[0m\u001b[0m\n",
      "\u001b[0;31mNameError\u001b[0m: name 'num_dense_patients' is not defined"
     ]
    }
   ],
   "source": [
    "import pandas as pd\n",
    "from itertools import product\n",
    "import cmdstanpy\n",
    "\n",
    "\n",
    "from simulation_tools.patients import Patient\n",
    "from simulation_tools.data_wrangling import create_simulation_stan_data, prepare_simulation_data\n",
    "\n",
    "num_sparse_patients = 400\n",
    "num_dense_patients = 40\n",
    "\n",
    "# Create patients densely sampled.\n",
    "# See Patients.covars.  Sampled every half hour from 0.5 hours after ingestion to 12 hours after ingestion\n",
    "# Need to 'explode' by time because 'time' column is an array inside a column.\n",
    "dense_patients = [Patient(subjectid=i, sampling='dense').covars for i in range(num_dense_patients)]\n",
    "dense_df = pd.DataFrame(dense_patients).explode('time')\n",
    "\n",
    "# Create patients Sparsley sampled.\n",
    "# See Patients.covars.  Sampled sometime between 108 and 120 hours after ingestion.\n",
    "# This means hours post dose is time - 108 if doses are taken once every 12 hours with perfect adherence.\n",
    "sparse_patients = [Patient(subjectid=i+num_dense_patients, sampling='sparse').covars for i in range(num_sparse_patients)]\n",
    "sparse_df = pd.DataFrame(sparse_patients)\n",
    "\n",
    "# Combine the two simulated sets and recode their identifiers for passing to stan.\n",
    "df = pd.concat((dense_df, sparse_df))\n",
    "df['subjectids'] = pd.Categorical(df.subjectids).codes + 1\n",
    "\n",
    "# Create a dictionary to pass to the stan model\n",
    "stan_simulation_data = create_simulation_stan_data(df, amio_effect)\n",
    "\n",
    "# Load up simulation model and draw parameters\n",
    "simulation_model =cmdstanpy.CmdStanModel(stan_file='simulation_models/simulate_patients.stan')\n",
    "fit = simulation_model.sample(stan_simulation_data, chains=1, iter_warmup=0, iter_sampling=1, fixed_param=True )\n",
    "\n",
    "\n",
    "# Append simulation results to the data\n",
    "df['yobs'] = fit.stan_variable('observed_concentration').ravel()\n",
    "df['latent_y'] = fit.stan_variable('concentration').ravel()\n",
    "\n",
    "\n",
    "simulation_data = prepare_simulation_data(\n",
    "    sparse_df=df.query('sampling==\"sparse\"'),\n",
    "    dense_df = df.query('sampling==\"dense\"')\n",
    ")\n",
    "\n"
   ]
  },
  {
   "cell_type": "code",
   "execution_count": null,
   "metadata": {},
   "outputs": [],
   "source": []
  }
 ],
 "metadata": {
  "interpreter": {
   "hash": "45d48dd6db66bb8a9afbf8f788e524c2ff13a3ad8234b0c9488001d30ade088d"
  },
  "kernelspec": {
   "display_name": "Python 3.9.9 ('pymc-dev-py39')",
   "language": "python",
   "name": "python3"
  },
  "language_info": {
   "codemirror_mode": {
    "name": "ipython",
    "version": 3
   },
   "file_extension": ".py",
   "mimetype": "text/x-python",
   "name": "python",
   "nbconvert_exporter": "python",
   "pygments_lexer": "ipython3",
   "version": "3.9.7"
  },
  "orig_nbformat": 4
 },
 "nbformat": 4,
 "nbformat_minor": 2
}
